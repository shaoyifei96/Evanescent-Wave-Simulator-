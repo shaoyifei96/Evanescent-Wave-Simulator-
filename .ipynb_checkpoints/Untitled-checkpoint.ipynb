{
 "cells": [
  {
   "cell_type": "code",
   "execution_count": 1,
   "metadata": {
    "collapsed": true
   },
   "outputs": [],
   "source": [
    "#!/usr/bin/env python3\n",
    "# -*- coding: utf-8 -*-\n",
    "\"\"\"\n",
    "Created on Sun Apr  9 22:07:40 2017\n",
    "\n",
    "@author: wangleo\n",
    "\"\"\"\n",
    "from numpy import ones,zeros\n",
    "from pylab import show,figure,xlim,ylim,axes\n",
    "from matplotlib import animation\n",
    "\n",
    "m=1\n",
    "cm=1e-2*m\n",
    "mm=1e-3*m\n",
    "inch=2.54*cm\n",
    "ft=12*inch\n",
    "s=1\n",
    "hz=1/s\n",
    "\n",
    "c0=299792458*m/s\n",
    "e0=8.854187817e-12*1/m\n",
    "u0=1.2566370614e-6*1/m\n",
    "\n",
    "\n",
    "step=1000\n",
    "dz=0.006*m\n",
    "Nz=200\n",
    "dt=1e-11*s\n",
    "\n",
    "#build devic on grid\n",
    "ER=ones(Nz)\n",
    "UR=ones(Nz)\n",
    "\n",
    "mEy=(c0*dt)/ER\n",
    "mHx=(c0*dt)/UR\n",
    "\n",
    "Ey=zeros(Nz)\n",
    "Hx=zeros(Nz)\n",
    "\n",
    "Boxes= zeros(Nz)\n",
    "for i in range(0,len(boxes)-1):\n",
    "    one_box=box(pos=(-Nz+i,0,0), length=1, height=1, width=1)\n",
    "\n",
    "\n",
    "for t in range(step):\n",
    "    for nz in range(1,Nz-1):\n",
    "        Hx[nz-1]=Hx[nz-1]+mHx[nz-1]*(Ey[nz]-Ey[nz-1])/dz\n",
    "    Hx[Nz-1]=Hx[Nz-1]+mHx[Nz-1]*(0-Ey[Nz-1])/dz\n",
    "      \n",
    "    Ey[0]=Ey[0]+mEy[0]*(Hx[0]-0)/dz\n",
    "    for nz in range(2,Nz):\n",
    "        Ey[nz-1]=Ey[nz-1]+mEy[nz-1]*(Hx[nz-1]-Hx[nz-1])/dz\n",
    "          \n",
    "\n"
   ]
  }
 ],
 "metadata": {
  "kernelspec": {
   "display_name": "VPython",
   "language": "python",
   "name": "vpython"
  },
  "language_info": {
   "codemirror_mode": {
    "name": "ipython",
    "version": 3
   },
   "file_extension": ".py",
   "mimetype": "text/x-python",
   "name": "python",
   "nbconvert_exporter": "python",
   "pygments_lexer": "ipython3",
   "version": "3.5.2"
  }
 },
 "nbformat": 4,
 "nbformat_minor": 1
}
