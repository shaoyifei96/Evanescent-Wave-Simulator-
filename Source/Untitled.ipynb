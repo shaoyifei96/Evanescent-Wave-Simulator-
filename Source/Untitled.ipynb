{
 "cells": [
  {
   "cell_type": "code",
   "execution_count": 1,
   "metadata": {
    "collapsed": false
   },
   "outputs": [
    {
     "data": {
      "application/javascript": [
       "require.undef(\"nbextensions/vpython_libraries/jquery-ui.custom.min\");"
      ],
      "text/plain": [
       "<IPython.core.display.Javascript object>"
      ]
     },
     "metadata": {},
     "output_type": "display_data"
    },
    {
     "data": {
      "application/javascript": [
       "require.undef(\"nbextensions/vpython_libraries/glow.2.1.min\");"
      ],
      "text/plain": [
       "<IPython.core.display.Javascript object>"
      ]
     },
     "metadata": {},
     "output_type": "display_data"
    },
    {
     "data": {
      "application/javascript": [
       "require.undef(\"nbextensions/vpython_libraries/glowcomm\");"
      ],
      "text/plain": [
       "<IPython.core.display.Javascript object>"
      ]
     },
     "metadata": {},
     "output_type": "display_data"
    },
    {
     "data": {
      "application/javascript": [
       "require([\"nbextensions/vpython_libraries/jquery-ui.custom.min\"], function(){console.log(\"JQUERY LOADED\");})"
      ],
      "text/plain": [
       "<IPython.core.display.Javascript object>"
      ]
     },
     "metadata": {},
     "output_type": "display_data"
    },
    {
     "data": {
      "application/javascript": [
       "require([\"nbextensions/vpython_libraries/glow.2.1.min\"], function(){console.log(\"GLOW LOADED\");})"
      ],
      "text/plain": [
       "<IPython.core.display.Javascript object>"
      ]
     },
     "metadata": {},
     "output_type": "display_data"
    },
    {
     "data": {
      "application/javascript": [
       "require([\"nbextensions/vpython_libraries/glowcomm\"], function(){console.log(\"GLOWCOMM LOADED\");})"
      ],
      "text/plain": [
       "<IPython.core.display.Javascript object>"
      ]
     },
     "metadata": {},
     "output_type": "display_data"
    },
    {
     "data": {
      "text/html": [
       "<div id=\"glowscript\" class=\"glowscript\"></div>"
      ],
      "text/plain": [
       "<IPython.core.display.HTML object>"
      ]
     },
     "metadata": {},
     "output_type": "display_data"
    },
    {
     "data": {
      "application/javascript": [
       "window.__context = { glowscript_container: $(\"#glowscript\").removeAttr(\"id\")}"
      ],
      "text/plain": [
       "<IPython.core.display.Javascript object>"
      ]
     },
     "metadata": {},
     "output_type": "display_data"
    },
    {
     "name": "stdout",
     "output_type": "stream",
     "text": [
      "Hello World\n",
      "mat= [[  1.20000000e+00   1.20000000e+00   8.85418782e-12   8.85418782e-12\n",
      "    8.85418782e-12   8.85418782e-12   8.85418782e-12   8.85418782e-12\n",
      "    8.85418782e-12   8.85418782e-12]\n",
      " [  1.20000000e+00   1.20000000e+00   8.85418782e-12   8.85418782e-12\n",
      "    8.85418782e-12   8.85418782e-12   8.85418782e-12   8.85418782e-12\n",
      "    8.85418782e-12   8.85418782e-12]\n",
      " [  8.85418782e-12   8.85418782e-12   8.85418782e-12   8.85418782e-12\n",
      "    8.85418782e-12   8.85418782e-12   8.85418782e-12   8.85418782e-12\n",
      "    8.85418782e-12   8.85418782e-12]\n",
      " [  8.85418782e-12   8.85418782e-12   8.85418782e-12   8.85418782e-12\n",
      "    8.85418782e-12   8.85418782e-12   8.85418782e-12   8.85418782e-12\n",
      "    8.85418782e-12   8.85418782e-12]\n",
      " [  8.85418782e-12   8.85418782e-12   8.85418782e-12   8.85418782e-12\n",
      "    8.85418782e-12   8.85418782e-12   8.85418782e-12   8.85418782e-12\n",
      "    8.85418782e-12   8.85418782e-12]\n",
      " [  8.85418782e-12   8.85418782e-12   8.85418782e-12   8.85418782e-12\n",
      "    8.85418782e-12   8.85418782e-12   8.85418782e-12   8.85418782e-12\n",
      "    8.85418782e-12   8.85418782e-12]\n",
      " [  8.85418782e-12   8.85418782e-12   8.85418782e-12   8.85418782e-12\n",
      "    8.85418782e-12   8.85418782e-12   8.85418782e-12   8.85418782e-12\n",
      "    8.85418782e-12   8.85418782e-12]\n",
      " [  8.85418782e-12   8.85418782e-12   8.85418782e-12   8.85418782e-12\n",
      "    8.85418782e-12   8.85418782e-12   8.85418782e-12   8.85418782e-12\n",
      "    8.85418782e-12   8.85418782e-12]\n",
      " [  8.85418782e-12   8.85418782e-12   8.85418782e-12   8.85418782e-12\n",
      "    8.85418782e-12   8.85418782e-12   8.85418782e-12   8.85418782e-12\n",
      "    8.85418782e-12   8.85418782e-12]\n",
      " [  8.85418782e-12   8.85418782e-12   8.85418782e-12   8.85418782e-12\n",
      "    8.85418782e-12   8.85418782e-12   8.85418782e-12   8.85418782e-12\n",
      "    8.85418782e-12   8.85418782e-12]]\n"
     ]
    },
    {
     "name": "stderr",
     "output_type": "stream",
     "text": [
      "/Users/wangleo/GitHub/Evanescent-Wave-Simulator-/Source/EH/Linear_Ops.py:10: RuntimeWarning: overflow encountered in multiply\n",
      "  return Dz_coef*Dz\n",
      "/Users/wangleo/GitHub/Evanescent-Wave-Simulator-/Source/EH/Curl.py:8: RuntimeWarning: invalid value encountered in double_scalars\n",
      "  CEx[nx, ny]=(Ez[nx, ny+1]-Ez[nx,ny])/dy#general case\n",
      "/Users/wangleo/GitHub/Evanescent-Wave-Simulator-/Source/EH/Curl.py:17: RuntimeWarning: invalid value encountered in double_scalars\n",
      "  CEy[nx, ny]=-(Ez[nx+1, ny]-Ez[nx,ny])/dx#special case\n",
      "/Users/wangleo/GitHub/Evanescent-Wave-Simulator-/Source/EH/Linear_Ops.py:4: RuntimeWarning: overflow encountered in multiply\n",
      "  return Hx+CEx_coeff*CEx\n",
      "/Users/wangleo/GitHub/Evanescent-Wave-Simulator-/Source/EH/Linear_Ops.py:6: RuntimeWarning: overflow encountered in multiply\n",
      "  return Hy+CEy_coeff*CEy\n",
      "/Users/wangleo/GitHub/Evanescent-Wave-Simulator-/Source/EH/Curl.py:26: RuntimeWarning: invalid value encountered in double_scalars\n",
      "  CHz[nx,0]=(Hy[nx,0]-Hy[nx-1,0])/dx - (Hx[nx,0]-0)/dy#firs colomn condition\n",
      "/Users/wangleo/GitHub/Evanescent-Wave-Simulator-/Source/EH/Curl.py:28: RuntimeWarning: invalid value encountered in double_scalars\n",
      "  CHz[0,ny]=(Hy[0,ny]-0)/dx - (Hx[0,ny]-Hx[0,ny-1])/dy#first row special case\n",
      "/Users/wangleo/GitHub/Evanescent-Wave-Simulator-/Source/EH/Curl.py:32: RuntimeWarning: invalid value encountered in double_scalars\n",
      "  -(Hx[nx,ny]-Hx[nx,ny-1])/dy\n"
     ]
    }
   ],
   "source": [
    "#The code should be developed from big picture to specific\n",
    "#steps, therefore we put files in folders, this main \n",
    "#should not be edited, main is based on YOUTUBE:\n",
    "#https://www.youtube.com/watch?v=vVeyP85xKD4&t=8s\n",
    "\n",
    "#recommand using Sublime, Don't use Spyder, the tabs are \n",
    "#different, it can cause problems\n",
    "\n",
    "#When import library or module ALWAYS import as\n",
    "#When code is in a folder use foldername.filename\n",
    "#e.g. import numpy as np\n",
    "#e.g. import plot as plt\n",
    "\n",
    "import numpy as np\n",
    "import EH.Linear_Ops as lin_func#example of in_folder func\n",
    "import EH.Curl as cr\n",
    "import Initial_Material.Mat_Class as mat\n",
    "import copy as cp\n",
    "import matplotlib.pyplot as plt\n",
    "from vpython import *\n",
    "import time as tm\n",
    "print(\"Hello World\")\n",
    "\n",
    "dt=0.5\n",
    "dx=0.1\n",
    "dy=0.1\n",
    "\n",
    "\n",
    "#set up the size of the map\n",
    "L=10\n",
    "W=10\n",
    "#set the size of a single grid\n",
    "l=1\n",
    "\n",
    "#setup, the following code should run once\n",
    "#Set Initial Conditions\n",
    "#Set Material Property\n",
    "#\n",
    "#\n",
    "#==================TEST for material class, you can add a block of material in 2d\n",
    "\n",
    "Mat_map=mat.Mat(L,W,dt)\n",
    "\n",
    "Mat_map.add_mat_bond(0,2,0,2,1.2,1)#(i_i,i_f,j_i,j_f,e,mu)\n",
    "print(\"mat=\",Mat_map.e)\n",
    "#==================\n",
    "\n",
    "#======TEST PURPOSE \n",
    "\n",
    "\n",
    "Ex=np.zeros((L,W),float)\n",
    "\n",
    "r,c=np.shape(Ex)\n",
    "Ex[0:r,0:c]=0\n",
    "\n",
    "\n",
    "Ez=cp.deepcopy(Ex)\n",
    "Hx=cp.deepcopy(Ex)\n",
    "Hy=cp.deepcopy(Ex)\n",
    "Dz=cp.deepcopy(Ex)\n",
    "#inital condition\n",
    "Ez[4,4]=0.001\n",
    "\n",
    "\n",
    "\n",
    "n=0\n",
    "\n",
    "#visualizatoin setup\n",
    "scale=1\n",
    "grids=[]\n",
    "\n",
    "\n",
    "for i in range(L):\n",
    "\tline=[]\n",
    "\tfor j in range(W):\n",
    "\t\tline.append(box(pos=vector(l*i,l*j,l*0), length=l, height=l, width=0,color=vector(0,0,0)))\n",
    "\tgrids.append(line)\n",
    "\n",
    "    \n",
    "fuk= grids[0]\n",
    "fuk[0].color= vector(1,1, 1)\n",
    "\n",
    "\n",
    "# def updates(grids):\n",
    "# \tfor i in range(L):\n",
    "# \t\tfor j in range(W):\n",
    "# \t\t\tcol1=0\n",
    "# \t\t\tcol2=0\n",
    "# \t\t\tif abs(Ex[i,j])>1:\n",
    "# \t\t\t\tcol1=1\n",
    "# \t\t\tif abs(Hy[i,j]>1):\n",
    "# \t\t\t\tcol2=1\n",
    "# \t\t\t\tprint(i, j)\n",
    "# \t\t\tgrids[i][j].color= vector(col1,col2, 0)\n",
    "            \n",
    "while(n<100):\n",
    "\n",
    "\t\n",
    "\tCEx=cr.M_Ez_Curl_Ex(Ez,dy)\n",
    "\tCEy=cr.M_Ez_Curl_Ey(Ez,dx)\n",
    "\tHx=lin_func.M_Ez_Hx_update(Hx,CEx,Mat_map.M_Ez_Coef_Ex)\n",
    "\tHy=lin_func.M_Ez_Hy_update(Hy,CEy,Mat_map.M_Ez_Coef_Ey)\n",
    "\tCHz=cr.M_Ez_Curl_Hz(Hx, Hy, dx, dy)\n",
    "\tDz=lin_func.M_Ez_Dz_update(Dz,CHz,Mat_map.M_Ez_Coef_Hz)\n",
    "\t#add in source here\n",
    "\tEz=lin_func.M_Ez_Ez_from_Dz(Dz, Mat_map.M_Ez_Coef_Dz)\n",
    "\t#print(\"Ez=\",Ez)\n",
    "\t#updates(grids)\n",
    "\tn=n+1\n",
    "    \n",
    "\ttm.sleep(3)\n",
    "    \n",
    "\n",
    "\t#Update D from H\n",
    "\t#Update E from D\n",
    "\t#Handle E field boundary(boundary means edge, not material)\n",
    "\t#Handle E field Source\n",
    "\n",
    "\t#Update B from E\n",
    "\t#Update H from B\n",
    "\t#Handle H field Boundary\n",
    "\t#Handle H field Source\n",
    "\n",
    "\t#Record Some Data\n",
    "\t#Simulate\n",
    "\n",
    "\n",
    "\n",
    "\n",
    "\n",
    "\n",
    "\n",
    "\n"
   ]
  },
  {
   "cell_type": "code",
   "execution_count": null,
   "metadata": {
    "collapsed": true
   },
   "outputs": [],
   "source": []
  }
 ],
 "metadata": {
  "anaconda-cloud": {},
  "kernelspec": {
   "display_name": "VPython",
   "language": "python",
   "name": "vpython"
  },
  "language_info": {
   "codemirror_mode": {
    "name": "ipython",
    "version": 3
   },
   "file_extension": ".py",
   "mimetype": "text/x-python",
   "name": "python",
   "nbconvert_exporter": "python",
   "pygments_lexer": "ipython3",
   "version": "3.5.2"
  }
 },
 "nbformat": 4,
 "nbformat_minor": 1
}
